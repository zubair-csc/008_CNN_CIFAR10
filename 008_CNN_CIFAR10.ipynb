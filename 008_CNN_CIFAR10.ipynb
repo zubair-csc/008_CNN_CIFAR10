{
  "nbformat": 4,
  "nbformat_minor": 0,
  "metadata": {
    "colab": {
      "provenance": []
    },
    "kernelspec": {
      "name": "python3",
      "display_name": "Python 3"
    },
    "language_info": {
      "name": "python"
    }
  },
  "cells": [
    {
      "cell_type": "code",
      "execution_count": 1,
      "metadata": {
        "colab": {
          "base_uri": "https://localhost:8080/",
          "height": 1000
        },
        "id": "ryNjiUH9dvkX",
        "outputId": "471d293e-a7be-47f4-85cf-640172ca1ae2"
      },
      "outputs": [
        {
          "output_type": "stream",
          "name": "stdout",
          "text": [
            "Using device: cpu\n",
            "Training on Fashion-MNIST...\n",
            "=== CNN Image Classification on FASHIONMNIST ===\n"
          ]
        },
        {
          "output_type": "stream",
          "name": "stderr",
          "text": [
            "100%|██████████| 26.4M/26.4M [00:01<00:00, 17.6MB/s]\n",
            "100%|██████████| 29.5k/29.5k [00:00<00:00, 306kB/s]\n",
            "100%|██████████| 4.42M/4.42M [00:00<00:00, 5.60MB/s]\n",
            "100%|██████████| 5.15k/5.15k [00:00<00:00, 9.70MB/s]\n"
          ]
        },
        {
          "output_type": "stream",
          "name": "stdout",
          "text": [
            "Total parameters: 654,282\n",
            "Trainable parameters: 654,282\n",
            "Starting training...\n"
          ]
        },
        {
          "output_type": "stream",
          "name": "stderr",
          "text": [
            "Epoch 1/30: 100%|██████████| 469/469 [02:54<00:00,  2.68it/s, Loss=0.8275, Acc=68.75%]\n"
          ]
        },
        {
          "output_type": "stream",
          "name": "stdout",
          "text": [
            "Epoch [1/30] - Loss: 0.8275, Accuracy: 68.75%\n"
          ]
        },
        {
          "output_type": "stream",
          "name": "stderr",
          "text": [
            "Epoch 2/30: 100%|██████████| 469/469 [02:56<00:00,  2.66it/s, Loss=0.5358, Acc=80.73%]\n"
          ]
        },
        {
          "output_type": "stream",
          "name": "stdout",
          "text": [
            "Epoch [2/30] - Loss: 0.5358, Accuracy: 80.73%\n"
          ]
        },
        {
          "output_type": "stream",
          "name": "stderr",
          "text": [
            "Epoch 3/30: 100%|██████████| 469/469 [02:55<00:00,  2.67it/s, Loss=0.4708, Acc=82.92%]\n"
          ]
        },
        {
          "output_type": "stream",
          "name": "stdout",
          "text": [
            "Epoch [3/30] - Loss: 0.4708, Accuracy: 82.92%\n"
          ]
        },
        {
          "output_type": "stream",
          "name": "stderr",
          "text": [
            "Epoch 4/30: 100%|██████████| 469/469 [02:55<00:00,  2.67it/s, Loss=0.4310, Acc=84.67%]\n"
          ]
        },
        {
          "output_type": "stream",
          "name": "stdout",
          "text": [
            "Epoch [4/30] - Loss: 0.4310, Accuracy: 84.67%\n"
          ]
        },
        {
          "output_type": "stream",
          "name": "stderr",
          "text": [
            "Epoch 5/30: 100%|██████████| 469/469 [02:56<00:00,  2.66it/s, Loss=0.4025, Acc=85.65%]\n"
          ]
        },
        {
          "output_type": "stream",
          "name": "stdout",
          "text": [
            "Epoch [5/30] - Loss: 0.4025, Accuracy: 85.65%\n"
          ]
        },
        {
          "output_type": "stream",
          "name": "stderr",
          "text": [
            "Epoch 6/30: 100%|██████████| 469/469 [02:55<00:00,  2.67it/s, Loss=0.3882, Acc=86.18%]\n"
          ]
        },
        {
          "output_type": "stream",
          "name": "stdout",
          "text": [
            "Epoch [6/30] - Loss: 0.3882, Accuracy: 86.18%\n"
          ]
        },
        {
          "output_type": "stream",
          "name": "stderr",
          "text": [
            "Epoch 7/30: 100%|██████████| 469/469 [02:55<00:00,  2.67it/s, Loss=0.3676, Acc=86.83%]\n"
          ]
        },
        {
          "output_type": "stream",
          "name": "stdout",
          "text": [
            "Epoch [7/30] - Loss: 0.3676, Accuracy: 86.83%\n"
          ]
        },
        {
          "output_type": "stream",
          "name": "stderr",
          "text": [
            "Epoch 8/30: 100%|██████████| 469/469 [02:54<00:00,  2.69it/s, Loss=0.3553, Acc=87.41%]\n"
          ]
        },
        {
          "output_type": "stream",
          "name": "stdout",
          "text": [
            "Epoch [8/30] - Loss: 0.3553, Accuracy: 87.41%\n"
          ]
        },
        {
          "output_type": "stream",
          "name": "stderr",
          "text": [
            "Epoch 9/30: 100%|██████████| 469/469 [02:54<00:00,  2.68it/s, Loss=0.3465, Acc=87.54%]\n"
          ]
        },
        {
          "output_type": "stream",
          "name": "stdout",
          "text": [
            "Epoch [9/30] - Loss: 0.3465, Accuracy: 87.54%\n"
          ]
        },
        {
          "output_type": "stream",
          "name": "stderr",
          "text": [
            "Epoch 10/30: 100%|██████████| 469/469 [02:57<00:00,  2.65it/s, Loss=0.3388, Acc=88.07%]\n"
          ]
        },
        {
          "output_type": "stream",
          "name": "stdout",
          "text": [
            "Epoch [10/30] - Loss: 0.3388, Accuracy: 88.07%\n"
          ]
        },
        {
          "output_type": "stream",
          "name": "stderr",
          "text": [
            "Epoch 11/30: 100%|██████████| 469/469 [02:58<00:00,  2.63it/s, Loss=0.3314, Acc=88.22%]\n"
          ]
        },
        {
          "output_type": "stream",
          "name": "stdout",
          "text": [
            "Epoch [11/30] - Loss: 0.3314, Accuracy: 88.22%\n"
          ]
        },
        {
          "output_type": "stream",
          "name": "stderr",
          "text": [
            "Epoch 12/30: 100%|██████████| 469/469 [02:59<00:00,  2.61it/s, Loss=0.3242, Acc=88.34%]\n"
          ]
        },
        {
          "output_type": "stream",
          "name": "stdout",
          "text": [
            "Epoch [12/30] - Loss: 0.3242, Accuracy: 88.34%\n"
          ]
        },
        {
          "output_type": "stream",
          "name": "stderr",
          "text": [
            "Epoch 13/30: 100%|██████████| 469/469 [03:03<00:00,  2.55it/s, Loss=0.3174, Acc=88.84%]\n"
          ]
        },
        {
          "output_type": "stream",
          "name": "stdout",
          "text": [
            "Epoch [13/30] - Loss: 0.3174, Accuracy: 88.84%\n"
          ]
        },
        {
          "output_type": "stream",
          "name": "stderr",
          "text": [
            "Epoch 14/30: 100%|██████████| 469/469 [03:07<00:00,  2.51it/s, Loss=0.3157, Acc=88.83%]\n"
          ]
        },
        {
          "output_type": "stream",
          "name": "stdout",
          "text": [
            "Epoch [14/30] - Loss: 0.3157, Accuracy: 88.83%\n"
          ]
        },
        {
          "output_type": "stream",
          "name": "stderr",
          "text": [
            "Epoch 15/30: 100%|██████████| 469/469 [03:12<00:00,  2.43it/s, Loss=0.3096, Acc=89.08%]\n"
          ]
        },
        {
          "output_type": "stream",
          "name": "stdout",
          "text": [
            "Epoch [15/30] - Loss: 0.3096, Accuracy: 89.08%\n"
          ]
        },
        {
          "output_type": "stream",
          "name": "stderr",
          "text": [
            "Epoch 16/30: 100%|██████████| 469/469 [03:14<00:00,  2.41it/s, Loss=0.3006, Acc=89.36%]\n"
          ]
        },
        {
          "output_type": "stream",
          "name": "stdout",
          "text": [
            "Epoch [16/30] - Loss: 0.3006, Accuracy: 89.36%\n"
          ]
        },
        {
          "output_type": "stream",
          "name": "stderr",
          "text": [
            "Epoch 17/30: 100%|██████████| 469/469 [03:11<00:00,  2.45it/s, Loss=0.2969, Acc=89.40%]\n"
          ]
        },
        {
          "output_type": "stream",
          "name": "stdout",
          "text": [
            "Epoch [17/30] - Loss: 0.2969, Accuracy: 89.40%\n"
          ]
        },
        {
          "output_type": "stream",
          "name": "stderr",
          "text": [
            "Epoch 18/30: 100%|██████████| 469/469 [03:06<00:00,  2.51it/s, Loss=0.2986, Acc=89.31%]\n"
          ]
        },
        {
          "output_type": "stream",
          "name": "stdout",
          "text": [
            "Epoch [18/30] - Loss: 0.2986, Accuracy: 89.31%\n"
          ]
        },
        {
          "output_type": "stream",
          "name": "stderr",
          "text": [
            "Epoch 19/30: 100%|██████████| 469/469 [03:05<00:00,  2.53it/s, Loss=0.2921, Acc=89.58%]\n"
          ]
        },
        {
          "output_type": "stream",
          "name": "stdout",
          "text": [
            "Epoch [19/30] - Loss: 0.2921, Accuracy: 89.58%\n"
          ]
        },
        {
          "output_type": "stream",
          "name": "stderr",
          "text": [
            "Epoch 20/30: 100%|██████████| 469/469 [03:03<00:00,  2.55it/s, Loss=0.2909, Acc=89.69%]\n"
          ]
        },
        {
          "output_type": "stream",
          "name": "stdout",
          "text": [
            "Epoch [20/30] - Loss: 0.2909, Accuracy: 89.69%\n"
          ]
        },
        {
          "output_type": "stream",
          "name": "stderr",
          "text": [
            "Epoch 21/30: 100%|██████████| 469/469 [03:02<00:00,  2.57it/s, Loss=0.2702, Acc=90.48%]\n"
          ]
        },
        {
          "output_type": "stream",
          "name": "stdout",
          "text": [
            "Epoch [21/30] - Loss: 0.2702, Accuracy: 90.48%\n"
          ]
        },
        {
          "output_type": "stream",
          "name": "stderr",
          "text": [
            "Epoch 22/30: 100%|██████████| 469/469 [03:02<00:00,  2.57it/s, Loss=0.2575, Acc=90.73%]\n"
          ]
        },
        {
          "output_type": "stream",
          "name": "stdout",
          "text": [
            "Epoch [22/30] - Loss: 0.2575, Accuracy: 90.73%\n"
          ]
        },
        {
          "output_type": "stream",
          "name": "stderr",
          "text": [
            "Epoch 23/30: 100%|██████████| 469/469 [03:03<00:00,  2.56it/s, Loss=0.2535, Acc=90.93%]\n"
          ]
        },
        {
          "output_type": "stream",
          "name": "stdout",
          "text": [
            "Epoch [23/30] - Loss: 0.2535, Accuracy: 90.93%\n"
          ]
        },
        {
          "output_type": "stream",
          "name": "stderr",
          "text": [
            "Epoch 24/30: 100%|██████████| 469/469 [03:04<00:00,  2.54it/s, Loss=0.2514, Acc=90.98%]\n"
          ]
        },
        {
          "output_type": "stream",
          "name": "stdout",
          "text": [
            "Epoch [24/30] - Loss: 0.2514, Accuracy: 90.98%\n"
          ]
        },
        {
          "output_type": "stream",
          "name": "stderr",
          "text": [
            "Epoch 25/30: 100%|██████████| 469/469 [03:04<00:00,  2.54it/s, Loss=0.2481, Acc=91.17%]\n"
          ]
        },
        {
          "output_type": "stream",
          "name": "stdout",
          "text": [
            "Epoch [25/30] - Loss: 0.2481, Accuracy: 91.17%\n"
          ]
        },
        {
          "output_type": "stream",
          "name": "stderr",
          "text": [
            "Epoch 26/30: 100%|██████████| 469/469 [03:06<00:00,  2.51it/s, Loss=0.2466, Acc=91.13%]\n"
          ]
        },
        {
          "output_type": "stream",
          "name": "stdout",
          "text": [
            "Epoch [26/30] - Loss: 0.2466, Accuracy: 91.13%\n"
          ]
        },
        {
          "output_type": "stream",
          "name": "stderr",
          "text": [
            "Epoch 27/30: 100%|██████████| 469/469 [03:09<00:00,  2.48it/s, Loss=0.2429, Acc=91.21%]\n"
          ]
        },
        {
          "output_type": "stream",
          "name": "stdout",
          "text": [
            "Epoch [27/30] - Loss: 0.2429, Accuracy: 91.21%\n"
          ]
        },
        {
          "output_type": "stream",
          "name": "stderr",
          "text": [
            "Epoch 28/30: 100%|██████████| 469/469 [03:06<00:00,  2.51it/s, Loss=0.2409, Acc=91.41%]\n"
          ]
        },
        {
          "output_type": "stream",
          "name": "stdout",
          "text": [
            "Epoch [28/30] - Loss: 0.2409, Accuracy: 91.41%\n"
          ]
        },
        {
          "output_type": "stream",
          "name": "stderr",
          "text": [
            "Epoch 29/30: 100%|██████████| 469/469 [03:07<00:00,  2.50it/s, Loss=0.2405, Acc=91.45%]\n"
          ]
        },
        {
          "output_type": "stream",
          "name": "stdout",
          "text": [
            "Epoch [29/30] - Loss: 0.2405, Accuracy: 91.45%\n"
          ]
        },
        {
          "output_type": "stream",
          "name": "stderr",
          "text": [
            "Epoch 30/30: 100%|██████████| 469/469 [03:07<00:00,  2.50it/s, Loss=0.2386, Acc=91.44%]\n"
          ]
        },
        {
          "output_type": "stream",
          "name": "stdout",
          "text": [
            "Epoch [30/30] - Loss: 0.2386, Accuracy: 91.44%\n",
            "Training completed in 5477.34 seconds\n",
            "Testing model...\n"
          ]
        },
        {
          "output_type": "stream",
          "name": "stderr",
          "text": [
            "Testing: 100%|██████████| 79/79 [00:12<00:00,  6.47it/s]"
          ]
        },
        {
          "output_type": "stream",
          "name": "stdout",
          "text": [
            "Overall Test Accuracy: 92.23%\n",
            "\n",
            "Per-class accuracy:\n",
            "T-shirt/top: 84.60%\n",
            "Trouser: 98.80%\n",
            "Pullover: 88.30%\n",
            "Dress: 92.80%\n",
            "Coat: 90.40%\n",
            "Sandal: 97.90%\n",
            "Shirt: 77.30%\n",
            "Sneaker: 97.80%\n",
            "Bag: 98.90%\n",
            "Ankle boot: 95.50%\n"
          ]
        },
        {
          "output_type": "stream",
          "name": "stderr",
          "text": [
            "\n"
          ]
        },
        {
          "output_type": "display_data",
          "data": {
            "text/plain": [
              "<Figure size 1200x400 with 2 Axes>"
            ],
            "image/png": "[encoded data removed]"
          },
          "metadata": {}
        },
        {
          "output_type": "display_data",
          "data": {
            "text/plain": [
              "<Figure size 1200x600 with 10 Axes>"
            ],
            "image/png": "[encoded data removed]"
          },
          "metadata": {}
        },
        {
          "output_type": "stream",
          "name": "stdout",
          "text": [
            "Model saved as cnn_fashionmnist_model.pth\n",
            "\n",
            "==================================================\n",
            "\n",
            "Training on CIFAR-10...\n",
            "=== CNN Image Classification on CIFAR10 ===\n"
          ]
        },
        {
          "output_type": "stream",
          "name": "stderr",
          "text": [
            "100%|██████████| 170M/170M [00:04<00:00, 40.3MB/s]\n"
          ]
        },
        {
          "output_type": "stream",
          "name": "stdout",
          "text": [
            "Total parameters: 654,858\n",
            "Trainable parameters: 654,858\n",
            "Starting training...\n"
          ]
        },
        {
          "output_type": "stream",
          "name": "stderr",
          "text": [
            "Epoch 1/25: 100%|██████████| 391/391 [03:04<00:00,  2.12it/s, Loss=1.8974, Acc=27.65%]\n"
          ]
        },
        {
          "output_type": "stream",
          "name": "stdout",
          "text": [
            "Epoch [1/25] - Loss: 1.8974, Accuracy: 27.65%\n"
          ]
        },
        {
          "output_type": "stream",
          "name": "stderr",
          "text": [
            "Epoch 2/25: 100%|██████████| 391/391 [03:06<00:00,  2.10it/s, Loss=1.6706, Acc=37.32%]\n"
          ]
        },
        {
          "output_type": "stream",
          "name": "stdout",
          "text": [
            "Epoch [2/25] - Loss: 1.6706, Accuracy: 37.32%\n"
          ]
        },
        {
          "output_type": "stream",
          "name": "stderr",
          "text": [
            "Epoch 3/25: 100%|██████████| 391/391 [03:06<00:00,  2.10it/s, Loss=1.5585, Acc=42.46%]\n"
          ]
        },
        {
          "output_type": "stream",
          "name": "stdout",
          "text": [
            "Epoch [3/25] - Loss: 1.5585, Accuracy: 42.46%\n"
          ]
        },
        {
          "output_type": "stream",
          "name": "stderr",
          "text": [
            "Epoch 4/25: 100%|██████████| 391/391 [03:10<00:00,  2.06it/s, Loss=1.4764, Acc=46.02%]\n"
          ]
        },
        {
          "output_type": "stream",
          "name": "stdout",
          "text": [
            "Epoch [4/25] - Loss: 1.4764, Accuracy: 46.02%\n"
          ]
        },
        {
          "output_type": "stream",
          "name": "stderr",
          "text": [
            "Epoch 5/25: 100%|██████████| 391/391 [03:06<00:00,  2.09it/s, Loss=1.4062, Acc=48.75%]\n"
          ]
        },
        {
          "output_type": "stream",
          "name": "stdout",
          "text": [
            "Epoch [5/25] - Loss: 1.4062, Accuracy: 48.75%\n"
          ]
        },
        {
          "output_type": "stream",
          "name": "stderr",
          "text": [
            "Epoch 6/25: 100%|██████████| 391/391 [03:07<00:00,  2.09it/s, Loss=1.3463, Acc=51.43%]\n"
          ]
        },
        {
          "output_type": "stream",
          "name": "stdout",
          "text": [
            "Epoch [6/25] - Loss: 1.3463, Accuracy: 51.43%\n"
          ]
        },
        {
          "output_type": "stream",
          "name": "stderr",
          "text": [
            "Epoch 7/25: 100%|██████████| 391/391 [03:05<00:00,  2.11it/s, Loss=1.2954, Acc=53.53%]\n"
          ]
        },
        {
          "output_type": "stream",
          "name": "stdout",
          "text": [
            "Epoch [7/25] - Loss: 1.2954, Accuracy: 53.53%\n"
          ]
        },
        {
          "output_type": "stream",
          "name": "stderr",
          "text": [
            "Epoch 8/25: 100%|██████████| 391/391 [03:06<00:00,  2.10it/s, Loss=1.2432, Acc=55.57%]\n"
          ]
        },
        {
          "output_type": "stream",
          "name": "stdout",
          "text": [
            "Epoch [8/25] - Loss: 1.2432, Accuracy: 55.57%\n"
          ]
        },
        {
          "output_type": "stream",
          "name": "stderr",
          "text": [
            "Epoch 9/25: 100%|██████████| 391/391 [03:07<00:00,  2.09it/s, Loss=1.2087, Acc=56.87%]\n"
          ]
        },
        {
          "output_type": "stream",
          "name": "stdout",
          "text": [
            "Epoch [9/25] - Loss: 1.2087, Accuracy: 56.87%\n"
          ]
        },
        {
          "output_type": "stream",
          "name": "stderr",
          "text": [
            "Epoch 10/25: 100%|██████████| 391/391 [03:06<00:00,  2.09it/s, Loss=1.1751, Acc=58.04%]\n"
          ]
        },
        {
          "output_type": "stream",
          "name": "stdout",
          "text": [
            "Epoch [10/25] - Loss: 1.1751, Accuracy: 58.04%\n"
          ]
        },
        {
          "output_type": "stream",
          "name": "stderr",
          "text": [
            "Epoch 11/25: 100%|██████████| 391/391 [03:06<00:00,  2.10it/s, Loss=1.1426, Acc=59.62%]\n"
          ]
        },
        {
          "output_type": "stream",
          "name": "stdout",
          "text": [
            "Epoch [11/25] - Loss: 1.1426, Accuracy: 59.62%\n"
          ]
        },
        {
          "output_type": "stream",
          "name": "stderr",
          "text": [
            "Epoch 12/25: 100%|██████████| 391/391 [03:06<00:00,  2.09it/s, Loss=1.1169, Acc=60.74%]\n"
          ]
        },
        {
          "output_type": "stream",
          "name": "stdout",
          "text": [
            "Epoch [12/25] - Loss: 1.1169, Accuracy: 60.74%\n"
          ]
        },
        {
          "output_type": "stream",
          "name": "stderr",
          "text": [
            "Epoch 13/25: 100%|██████████| 391/391 [03:09<00:00,  2.06it/s, Loss=1.0975, Acc=61.47%]\n"
          ]
        },
        {
          "output_type": "stream",
          "name": "stdout",
          "text": [
            "Epoch [13/25] - Loss: 1.0975, Accuracy: 61.47%\n"
          ]
        },
        {
          "output_type": "stream",
          "name": "stderr",
          "text": [
            "Epoch 14/25: 100%|██████████| 391/391 [03:08<00:00,  2.08it/s, Loss=1.0742, Acc=62.22%]\n"
          ]
        },
        {
          "output_type": "stream",
          "name": "stdout",
          "text": [
            "Epoch [14/25] - Loss: 1.0742, Accuracy: 62.22%\n"
          ]
        },
        {
          "output_type": "stream",
          "name": "stderr",
          "text": [
            "Epoch 15/25: 100%|██████████| 391/391 [03:11<00:00,  2.04it/s, Loss=1.0495, Acc=63.13%]\n"
          ]
        },
        {
          "output_type": "stream",
          "name": "stdout",
          "text": [
            "Epoch [15/25] - Loss: 1.0495, Accuracy: 63.13%\n"
          ]
        },
        {
          "output_type": "stream",
          "name": "stderr",
          "text": [
            "Epoch 16/25: 100%|██████████| 391/391 [03:11<00:00,  2.05it/s, Loss=1.0284, Acc=64.33%]\n"
          ]
        },
        {
          "output_type": "stream",
          "name": "stdout",
          "text": [
            "Epoch [16/25] - Loss: 1.0284, Accuracy: 64.33%\n"
          ]
        },
        {
          "output_type": "stream",
          "name": "stderr",
          "text": [
            "Epoch 17/25: 100%|██████████| 391/391 [03:14<00:00,  2.01it/s, Loss=1.0170, Acc=64.69%]\n"
          ]
        },
        {
          "output_type": "stream",
          "name": "stdout",
          "text": [
            "Epoch [17/25] - Loss: 1.0170, Accuracy: 64.69%\n"
          ]
        },
        {
          "output_type": "stream",
          "name": "stderr",
          "text": [
            "Epoch 18/25: 100%|██████████| 391/391 [03:15<00:00,  2.00it/s, Loss=0.9990, Acc=65.30%]\n"
          ]
        },
        {
          "output_type": "stream",
          "name": "stdout",
          "text": [
            "Epoch [18/25] - Loss: 0.9990, Accuracy: 65.30%\n"
          ]
        },
        {
          "output_type": "stream",
          "name": "stderr",
          "text": [
            "Epoch 19/25: 100%|██████████| 391/391 [03:18<00:00,  1.97it/s, Loss=0.9884, Acc=65.93%]\n"
          ]
        },
        {
          "output_type": "stream",
          "name": "stdout",
          "text": [
            "Epoch [19/25] - Loss: 0.9884, Accuracy: 65.93%\n"
          ]
        },
        {
          "output_type": "stream",
          "name": "stderr",
          "text": [
            "Epoch 20/25: 100%|██████████| 391/391 [03:21<00:00,  1.94it/s, Loss=0.9756, Acc=66.39%]\n"
          ]
        },
        {
          "output_type": "stream",
          "name": "stdout",
          "text": [
            "Epoch [20/25] - Loss: 0.9756, Accuracy: 66.39%\n"
          ]
        },
        {
          "output_type": "stream",
          "name": "stderr",
          "text": [
            "Epoch 21/25: 100%|██████████| 391/391 [03:21<00:00,  1.94it/s, Loss=0.9273, Acc=67.83%]\n"
          ]
        },
        {
          "output_type": "stream",
          "name": "stdout",
          "text": [
            "Epoch [21/25] - Loss: 0.9273, Accuracy: 67.83%\n"
          ]
        },
        {
          "output_type": "stream",
          "name": "stderr",
          "text": [
            "Epoch 22/25: 100%|██████████| 391/391 [03:21<00:00,  1.94it/s, Loss=0.9084, Acc=68.60%]\n"
          ]
        },
        {
          "output_type": "stream",
          "name": "stdout",
          "text": [
            "Epoch [22/25] - Loss: 0.9084, Accuracy: 68.60%\n"
          ]
        },
        {
          "output_type": "stream",
          "name": "stderr",
          "text": [
            "Epoch 23/25: 100%|██████████| 391/391 [03:21<00:00,  1.94it/s, Loss=0.9001, Acc=68.78%]\n"
          ]
        },
        {
          "output_type": "stream",
          "name": "stdout",
          "text": [
            "Epoch [23/25] - Loss: 0.9001, Accuracy: 68.78%\n"
          ]
        },
        {
          "output_type": "stream",
          "name": "stderr",
          "text": [
            "Epoch 24/25: 100%|██████████| 391/391 [03:23<00:00,  1.93it/s, Loss=0.8946, Acc=69.07%]\n"
          ]
        },
        {
          "output_type": "stream",
          "name": "stdout",
          "text": [
            "Epoch [24/25] - Loss: 0.8946, Accuracy: 69.07%\n"
          ]
        },
        {
          "output_type": "stream",
          "name": "stderr",
          "text": [
            "Epoch 25/25: 100%|██████████| 391/391 [03:22<00:00,  1.93it/s, Loss=0.8830, Acc=69.81%]\n"
          ]
        },
        {
          "output_type": "stream",
          "name": "stdout",
          "text": [
            "Epoch [25/25] - Loss: 0.8830, Accuracy: 69.81%\n",
            "Training completed in 4798.54 seconds\n",
            "Testing model...\n"
          ]
        },
        {
          "output_type": "stream",
          "name": "stderr",
          "text": [
            "Testing: 100%|██████████| 79/79 [00:18<00:00,  4.35it/s]"
          ]
        },
        {
          "output_type": "stream",
          "name": "stdout",
          "text": [
            "Overall Test Accuracy: 76.57%\n",
            "\n",
            "Per-class accuracy:\n",
            "plane: 78.60%\n",
            "car: 92.40%\n",
            "bird: 63.80%\n",
            "cat: 42.60%\n",
            "deer: 77.20%\n",
            "dog: 65.00%\n",
            "frog: 90.60%\n",
            "horse: 79.10%\n",
            "ship: 90.70%\n",
            "truck: 85.70%\n"
          ]
        },
        {
          "output_type": "stream",
          "name": "stderr",
          "text": [
            "\n"
          ]
        },
        {
          "output_type": "display_data",
          "data": {
            "text/plain": [
              "<Figure size 1200x400 with 2 Axes>"
            ],
            "image/png": "[encoded data removed]"
          },
          "metadata": {}
        },
        {
          "output_type": "display_data",
          "data": {
            "text/plain": [
              "<Figure size 1200x600 with 10 Axes>"
            ],
            "image/png": "[encoded data removed]"
          },
          "metadata": {}
        },
        {
          "output_type": "stream",
          "name": "stdout",
          "text": [
            "Model saved as cnn_cifar10_model.pth\n",
            "\n",
            "Final Results:\n",
            "Fashion-MNIST Test Accuracy: 92.23%\n",
            "CIFAR-10 Test Accuracy: 76.57%\n"
          ]
        }
      ],
      "source": [
        "import torch\n",
        "import torch.nn as nn\n",
        "import torch.optim as optim\n",
        "import torch.nn.functional as F\n",
        "from torch.utils.data import DataLoader\n",
        "import torchvision\n",
        "import torchvision.transforms as transforms\n",
        "import matplotlib.pyplot as plt\n",
        "import numpy as np\n",
        "from tqdm import tqdm\n",
        "import time\n",
        "\n",
        "# Set device\n",
        "device = torch.device('cuda' if torch.cuda.is_available() else 'cpu')\n",
        "print(f\"Using device: {device}\")\n",
        "\n",
        "# Define CNN Architecture\n",
        "class CNN(nn.Module):\n",
        "    def __init__(self, num_classes, input_channels=3):\n",
        "        super(CNN, self).__init__()\n",
        "\n",
        "        # Convolutional layers\n",
        "        self.conv1 = nn.Conv2d(input_channels, 32, kernel_size=3, padding=1)\n",
        "        self.conv2 = nn.Conv2d(32, 64, kernel_size=3, padding=1)\n",
        "        self.conv3 = nn.Conv2d(64, 128, kernel_size=3, padding=1)\n",
        "        self.conv4 = nn.Conv2d(128, 256, kernel_size=3, padding=1)\n",
        "\n",
        "        # Batch normalization layers\n",
        "        self.bn1 = nn.BatchNorm2d(32)\n",
        "        self.bn2 = nn.BatchNorm2d(64)\n",
        "        self.bn3 = nn.BatchNorm2d(128)\n",
        "        self.bn4 = nn.BatchNorm2d(256)\n",
        "\n",
        "        # Max pooling\n",
        "        self.pool = nn.MaxPool2d(2, 2)\n",
        "\n",
        "        # Adaptive average pooling to handle different input sizes\n",
        "        self.adaptive_pool = nn.AdaptiveAvgPool2d((1, 1))\n",
        "\n",
        "        # Dropout for regularization\n",
        "        self.dropout1 = nn.Dropout2d(0.25)\n",
        "        self.dropout2 = nn.Dropout(0.5)\n",
        "\n",
        "        # Fully connected layers - fixed size due to adaptive pooling\n",
        "        self.fc1 = nn.Linear(256, 512)  # 256 features from adaptive pooling\n",
        "        self.fc2 = nn.Linear(512, 256)\n",
        "        self.fc3 = nn.Linear(256, num_classes)\n",
        "\n",
        "    def forward(self, x):\n",
        "        # First conv block\n",
        "        x = self.pool(F.relu(self.bn1(self.conv1(x))))\n",
        "        x = self.dropout1(x)\n",
        "\n",
        "        # Second conv block\n",
        "        x = self.pool(F.relu(self.bn2(self.conv2(x))))\n",
        "        x = self.dropout1(x)\n",
        "\n",
        "        # Third conv block\n",
        "        x = self.pool(F.relu(self.bn3(self.conv3(x))))\n",
        "        x = self.dropout1(x)\n",
        "\n",
        "        # Fourth conv block\n",
        "        x = F.relu(self.bn4(self.conv4(x)))\n",
        "        x = self.dropout1(x)\n",
        "\n",
        "        # Adaptive pooling to get fixed size output regardless of input dimensions\n",
        "        x = self.adaptive_pool(x)\n",
        "\n",
        "        # Flatten for fully connected layers\n",
        "        x = x.view(x.size(0), -1)  # Should be (batch_size, 256)\n",
        "\n",
        "        # Fully connected layers\n",
        "        x = F.relu(self.fc1(x))\n",
        "        x = self.dropout2(x)\n",
        "        x = F.relu(self.fc2(x))\n",
        "        x = self.dropout2(x)\n",
        "        x = self.fc3(x)\n",
        "\n",
        "        return x\n",
        "\n",
        "# Data loading function\n",
        "def load_data(dataset_name='cifar10', batch_size=128):\n",
        "    \"\"\"Load and preprocess data\"\"\"\n",
        "\n",
        "    if dataset_name.lower() == 'cifar10':\n",
        "        # CIFAR-10 data transforms\n",
        "        transform_train = transforms.Compose([\n",
        "            transforms.RandomCrop(32, padding=4),\n",
        "            transforms.RandomHorizontalFlip(),\n",
        "            transforms.ToTensor(),\n",
        "            transforms.Normalize((0.4914, 0.4822, 0.4465), (0.2023, 0.1994, 0.2010)),\n",
        "        ])\n",
        "\n",
        "        transform_test = transforms.Compose([\n",
        "            transforms.ToTensor(),\n",
        "            transforms.Normalize((0.4914, 0.4822, 0.4465), (0.2023, 0.1994, 0.2010)),\n",
        "        ])\n",
        "\n",
        "        trainset = torchvision.datasets.CIFAR10(root='./data', train=True,\n",
        "                                              download=True, transform=transform_train)\n",
        "        testset = torchvision.datasets.CIFAR10(root='./data', train=False,\n",
        "                                             download=True, transform=transform_test)\n",
        "\n",
        "        classes = ('plane', 'car', 'bird', 'cat', 'deer', 'dog', 'frog', 'horse', 'ship', 'truck')\n",
        "        num_classes = 10\n",
        "        input_channels = 3\n",
        "\n",
        "    elif dataset_name.lower() == 'fashionmnist':\n",
        "        # Fashion-MNIST data transforms\n",
        "        transform = transforms.Compose([\n",
        "            transforms.ToTensor(),\n",
        "            transforms.Normalize((0.2860,), (0.3530,))\n",
        "        ])\n",
        "\n",
        "        transform_train = transforms.Compose([\n",
        "            transforms.RandomRotation(10),\n",
        "            transforms.RandomHorizontalFlip(),\n",
        "            transforms.ToTensor(),\n",
        "            transforms.Normalize((0.2860,), (0.3530,))\n",
        "        ])\n",
        "\n",
        "        trainset = torchvision.datasets.FashionMNIST(root='./data', train=True,\n",
        "                                                   download=True, transform=transform_train)\n",
        "        testset = torchvision.datasets.FashionMNIST(root='./data', train=False,\n",
        "                                                  download=True, transform=transform)\n",
        "\n",
        "        classes = ('T-shirt/top', 'Trouser', 'Pullover', 'Dress', 'Coat',\n",
        "                  'Sandal', 'Shirt', 'Sneaker', 'Bag', 'Ankle boot')\n",
        "        num_classes = 10\n",
        "        input_channels = 1\n",
        "\n",
        "    else:\n",
        "        raise ValueError(\"Dataset must be 'cifar10' or 'fashionmnist'\")\n",
        "\n",
        "    trainloader = DataLoader(trainset, batch_size=batch_size, shuffle=True, num_workers=2)\n",
        "    testloader = DataLoader(testset, batch_size=batch_size, shuffle=False, num_workers=2)\n",
        "\n",
        "    return trainloader, testloader, classes, num_classes, input_channels\n",
        "\n",
        "# Training function\n",
        "def train_model(model, trainloader, criterion, optimizer, scheduler, epochs=50):\n",
        "    \"\"\"Train the CNN model\"\"\"\n",
        "    model.train()\n",
        "    train_losses = []\n",
        "    train_accuracies = []\n",
        "\n",
        "    print(\"Starting training...\")\n",
        "\n",
        "    for epoch in range(epochs):\n",
        "        running_loss = 0.0\n",
        "        correct = 0\n",
        "        total = 0\n",
        "\n",
        "        # Progress bar\n",
        "        pbar = tqdm(trainloader, desc=f'Epoch {epoch+1}/{epochs}')\n",
        "\n",
        "        for i, (inputs, labels) in enumerate(pbar):\n",
        "            inputs, labels = inputs.to(device), labels.to(device)\n",
        "\n",
        "            # Zero gradients\n",
        "            optimizer.zero_grad()\n",
        "\n",
        "            # Forward pass\n",
        "            outputs = model(inputs)\n",
        "            loss = criterion(outputs, labels)\n",
        "\n",
        "            # Backward pass\n",
        "            loss.backward()\n",
        "            optimizer.step()\n",
        "\n",
        "            # Statistics\n",
        "            running_loss += loss.item()\n",
        "            _, predicted = torch.max(outputs.data, 1)\n",
        "            total += labels.size(0)\n",
        "            correct += (predicted == labels).sum().item()\n",
        "\n",
        "            # Update progress bar\n",
        "            pbar.set_postfix({\n",
        "                'Loss': f'{running_loss/(i+1):.4f}',\n",
        "                'Acc': f'{100.*correct/total:.2f}%'\n",
        "            })\n",
        "\n",
        "        # Calculate epoch metrics\n",
        "        epoch_loss = running_loss / len(trainloader)\n",
        "        epoch_acc = 100. * correct / total\n",
        "\n",
        "        train_losses.append(epoch_loss)\n",
        "        train_accuracies.append(epoch_acc)\n",
        "\n",
        "        # Learning rate scheduling\n",
        "        scheduler.step()\n",
        "\n",
        "        print(f'Epoch [{epoch+1}/{epochs}] - Loss: {epoch_loss:.4f}, Accuracy: {epoch_acc:.2f}%')\n",
        "\n",
        "    return train_losses, train_accuracies\n",
        "\n",
        "# Testing function\n",
        "def test_model(model, testloader, classes):\n",
        "    \"\"\"Test the trained model\"\"\"\n",
        "    model.eval()\n",
        "    correct = 0\n",
        "    total = 0\n",
        "    class_correct = list(0. for i in range(len(classes)))\n",
        "    class_total = list(0. for i in range(len(classes)))\n",
        "\n",
        "    print(\"Testing model...\")\n",
        "\n",
        "    with torch.no_grad():\n",
        "        for inputs, labels in tqdm(testloader, desc='Testing'):\n",
        "            inputs, labels = inputs.to(device), labels.to(device)\n",
        "            outputs = model(inputs)\n",
        "            _, predicted = torch.max(outputs, 1)\n",
        "\n",
        "            total += labels.size(0)\n",
        "            correct += (predicted == labels).sum().item()\n",
        "\n",
        "            # Per-class accuracy\n",
        "            c = (predicted == labels).squeeze()\n",
        "            for i in range(labels.size(0)):\n",
        "                label = labels[i]\n",
        "                class_correct[label] += c[i].item()\n",
        "                class_total[label] += 1\n",
        "\n",
        "    # Overall accuracy\n",
        "    accuracy = 100 * correct / total\n",
        "    print(f'Overall Test Accuracy: {accuracy:.2f}%')\n",
        "\n",
        "    # Per-class accuracy\n",
        "    print('\\nPer-class accuracy:')\n",
        "    for i in range(len(classes)):\n",
        "        if class_total[i] > 0:\n",
        "            print(f'{classes[i]}: {100 * class_correct[i] / class_total[i]:.2f}%')\n",
        "\n",
        "    return accuracy\n",
        "\n",
        "# Visualization function\n",
        "def visualize_results(train_losses, train_accuracies, sample_images, predictions, classes, dataset_name):\n",
        "    \"\"\"Visualize training results and sample predictions\"\"\"\n",
        "\n",
        "    # Plot training curves\n",
        "    fig, (ax1, ax2) = plt.subplots(1, 2, figsize=(12, 4))\n",
        "\n",
        "    ax1.plot(train_losses)\n",
        "    ax1.set_title('Training Loss')\n",
        "    ax1.set_xlabel('Epoch')\n",
        "    ax1.set_ylabel('Loss')\n",
        "    ax1.grid(True)\n",
        "\n",
        "    ax2.plot(train_accuracies)\n",
        "    ax2.set_title('Training Accuracy')\n",
        "    ax2.set_xlabel('Epoch')\n",
        "    ax2.set_ylabel('Accuracy (%)')\n",
        "    ax2.grid(True)\n",
        "\n",
        "    plt.tight_layout()\n",
        "    plt.show()\n",
        "\n",
        "    # Sample predictions\n",
        "    if sample_images is not None and predictions is not None:\n",
        "        fig, axes = plt.subplots(2, 5, figsize=(12, 6))\n",
        "        axes = axes.ravel()\n",
        "\n",
        "        for i in range(10):\n",
        "            img = sample_images[i]\n",
        "            if dataset_name.lower() == 'cifar10':\n",
        "                # CIFAR-10: RGB image\n",
        "                img = img.permute(1, 2, 0)\n",
        "                img = img * torch.tensor([0.2023, 0.1994, 0.2010]) + torch.tensor([0.4914, 0.4822, 0.4465])\n",
        "                img = torch.clamp(img, 0, 1)\n",
        "            else:\n",
        "                # Fashion-MNIST: Grayscale\n",
        "                img = img.squeeze()\n",
        "\n",
        "            axes[i].imshow(img, cmap='gray' if dataset_name.lower() == 'fashionmnist' else None)\n",
        "            axes[i].set_title(f'Pred: {classes[predictions[i]]}')\n",
        "            axes[i].axis('off')\n",
        "\n",
        "        plt.tight_layout()\n",
        "        plt.show()\n",
        "\n",
        "# Main execution function\n",
        "def main(dataset_name='cifar10', epochs=50, batch_size=128, learning_rate=0.001):\n",
        "    \"\"\"Main function to run the complete pipeline\"\"\"\n",
        "\n",
        "    print(f\"=== CNN Image Classification on {dataset_name.upper()} ===\")\n",
        "\n",
        "    # Load data\n",
        "    trainloader, testloader, classes, num_classes, input_channels = load_data(dataset_name, batch_size)\n",
        "\n",
        "    # Initialize model\n",
        "    model = CNN(num_classes=num_classes, input_channels=input_channels).to(device)\n",
        "\n",
        "    # Print model summary\n",
        "    total_params = sum(p.numel() for p in model.parameters())\n",
        "    trainable_params = sum(p.numel() for p in model.parameters() if p.requires_grad)\n",
        "    print(f\"Total parameters: {total_params:,}\")\n",
        "    print(f\"Trainable parameters: {trainable_params:,}\")\n",
        "\n",
        "    # Loss function and optimizer\n",
        "    criterion = nn.CrossEntropyLoss()\n",
        "    optimizer = optim.Adam(model.parameters(), lr=learning_rate, weight_decay=1e-4)\n",
        "    scheduler = optim.lr_scheduler.StepLR(optimizer, step_size=20, gamma=0.1)\n",
        "\n",
        "    # Train model\n",
        "    start_time = time.time()\n",
        "    train_losses, train_accuracies = train_model(model, trainloader, criterion, optimizer, scheduler, epochs)\n",
        "    training_time = time.time() - start_time\n",
        "    print(f\"Training completed in {training_time:.2f} seconds\")\n",
        "\n",
        "    # Test model\n",
        "    test_accuracy = test_model(model, testloader, classes)\n",
        "\n",
        "    # Get sample predictions for visualization\n",
        "    model.eval()\n",
        "    dataiter = iter(testloader)\n",
        "    images, labels = next(dataiter)\n",
        "    images, labels = images.to(device), labels.to(device)\n",
        "\n",
        "    with torch.no_grad():\n",
        "        outputs = model(images[:10])\n",
        "        _, predictions = torch.max(outputs, 1)\n",
        "\n",
        "    # Visualize results\n",
        "    visualize_results(train_losses, train_accuracies,\n",
        "                     images[:10].cpu(), predictions.cpu(), classes, dataset_name)\n",
        "\n",
        "    # Save model\n",
        "    model_path = f'cnn_{dataset_name}_model.pth'\n",
        "    torch.save(model.state_dict(), model_path)\n",
        "    print(f\"Model saved as {model_path}\")\n",
        "\n",
        "    return model, test_accuracy\n",
        "\n",
        "# Example usage\n",
        "if __name__ == \"__main__\":\n",
        "    # Run on Fashion-MNIST first (faster to test)\n",
        "    print(\"Training on Fashion-MNIST...\")\n",
        "    model_fashion, acc_fashion = main('fashionmnist', epochs=30, batch_size=128, learning_rate=0.001)\n",
        "\n",
        "    print(\"\\n\" + \"=\"*50 + \"\\n\")\n",
        "\n",
        "    # Run on CIFAR-10\n",
        "    print(\"Training on CIFAR-10...\")\n",
        "    model_cifar, acc_cifar = main('cifar10', epochs=25, batch_size=128, learning_rate=0.001)\n",
        "\n",
        "    print(f\"\\nFinal Results:\")\n",
        "    print(f\"Fashion-MNIST Test Accuracy: {acc_fashion:.2f}%\")\n",
        "    print(f\"CIFAR-10 Test Accuracy: {acc_cifar:.2f}%\")"
      ]
    }
  ]
}